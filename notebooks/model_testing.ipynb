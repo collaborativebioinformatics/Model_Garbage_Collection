{
 "cells": [
  {
   "cell_type": "code",
   "execution_count": 1,
   "id": "c21c53a0-4333-4a60-baa8-731b7a14aa14",
   "metadata": {
    "execution": {
     "iopub.execute_input": "2025-10-01T18:09:16.671908Z",
     "iopub.status.busy": "2025-10-01T18:09:16.671694Z",
     "iopub.status.idle": "2025-10-01T18:09:16.674465Z",
     "shell.execute_reply": "2025-10-01T18:09:16.674000Z",
     "shell.execute_reply.started": "2025-10-01T18:09:16.671891Z"
    }
   },
   "outputs": [],
   "source": [
    "import os\n"
   ]
  },
  {
   "cell_type": "code",
   "execution_count": null,
   "id": "e58e5f38-0d92-4209-bf00-311bca12399b",
   "metadata": {},
   "outputs": [],
   "source": []
  }
 ],
 "metadata": {
  "kernelspec": {
   "display_name": "Python 3 (ipykernel)",
   "language": "python",
   "name": "python3"
  },
  "language_info": {
   "codemirror_mode": {
    "name": "ipython",
    "version": 3
   },
   "file_extension": ".py",
   "mimetype": "text/x-python",
   "name": "python",
   "nbconvert_exporter": "python",
   "pygments_lexer": "ipython3",
   "version": "3.12.9"
  }
 },
 "nbformat": 4,
 "nbformat_minor": 5
}
